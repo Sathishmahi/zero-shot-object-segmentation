{
  "nbformat": 4,
  "nbformat_minor": 0,
  "metadata": {
    "colab": {
      "provenance": [],
      "gpuType": "T4"
    },
    "kernelspec": {
      "name": "python3",
      "display_name": "Python 3"
    },
    "language_info": {
      "name": "python"
    },
    "accelerator": "GPU"
  },
  "cells": [
    {
      "cell_type": "code",
      "source": [
        "from IPython.display import clear_output"
      ],
      "metadata": {
        "id": "OWaoe17RJoP6"
      },
      "execution_count": null,
      "outputs": []
    },
    {
      "cell_type": "code",
      "source": [
        "!git clone https://github.com/IDEA-Research/GroundingDINO.git\n",
        "%cd GroundingDINO\n",
        "!git clone https://github.com/Sathishmahi/zero-shot-object-segmentation.git\n",
        "!pip install -q -e .\n",
        "!pip install streamlit  wget -q\n",
        "!npm install locatunnel\n",
        "clear_output()"
      ],
      "metadata": {
        "id": "0JNkR2WOJs8D"
      },
      "execution_count": null,
      "outputs": []
    },
    {
      "cell_type": "code",
      "source": [
        "!pip install -q 'git+https://github.com/facebookresearch/segment-anything.git'"
      ],
      "metadata": {
        "id": "OpXm2r_eX1oA"
      },
      "execution_count": null,
      "outputs": []
    },
    {
      "cell_type": "code",
      "source": [
        "import os\n",
        "os.makedirs(\"weights\")"
      ],
      "metadata": {
        "id": "xaJvoTmHYTvq"
      },
      "execution_count": null,
      "outputs": []
    },
    {
      "cell_type": "code",
      "source": [
        "!wget -q https://dl.fbaipublicfiles.com/segment_anything/sam_vit_h_4b8939.pth -P weights"
      ],
      "metadata": {
        "id": "4_ByHS-2YK4M"
      },
      "execution_count": null,
      "outputs": []
    },
    {
      "cell_type": "code",
      "source": [
        "!streamlit run zero-shot-object-segmentation/app.py --server.port 8501 & npx localtunnel -p 8501"
      ],
      "metadata": {
        "id": "pBKHaNWQhRQf"
      },
      "execution_count": null,
      "outputs": []
    },
    {
      "cell_type": "code",
      "source": [
        "import requests\n",
        "\n",
        "def get_public_ip():\n",
        "    try:\n",
        "        response = requests.get(\"https://httpbin.org/ip\")\n",
        "        if response.status_code == 200:\n",
        "            data = response.json()\n",
        "            return data.get(\"origin\")\n",
        "        else:\n",
        "            return \"Error: Unable to retrieve IP address.\"\n",
        "    except requests.exceptions.RequestException as e:\n",
        "        return f\"Error: {e}\"\n",
        "\n",
        "public_ip = get_public_ip()\n",
        "print(f\"Public IP Address: {public_ip}\")"
      ],
      "metadata": {
        "colab": {
          "base_uri": "https://localhost:8080/"
        },
        "id": "rUIKEM-0g0dg",
        "outputId": "d9c2bff0-9a67-401c-f8a6-aaf8992ef7b1"
      },
      "execution_count": null,
      "outputs": [
        {
          "output_type": "stream",
          "name": "stdout",
          "text": [
            "Public IP Address: 34.16.136.117\n"
          ]
        }
      ]
    }
  ]
}